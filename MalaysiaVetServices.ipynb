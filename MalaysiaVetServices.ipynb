{
 "cells": [
  {
   "cell_type": "code",
   "execution_count": 1,
   "id": "00225730-2d56-45f1-b0aa-4ec0871c2d40",
   "metadata": {},
   "outputs": [
    {
     "name": "stdout",
     "output_type": "stream",
     "text": [
      "C:\\Users\\Izzah Alia\\anaconda3\\python.exe\n"
     ]
    }
   ],
   "source": [
    "import sys\n",
    "print(sys.executable)"
   ]
  },
  {
   "cell_type": "code",
   "execution_count": 2,
   "id": "4fd5e20c-08de-4518-8ac4-a5a490be2fe4",
   "metadata": {},
   "outputs": [
    {
     "name": "stdout",
     "output_type": "stream",
     "text": [
      "Requirement already satisfied: numpy in c:\\users\\izzah alia\\anaconda3\\lib\\site-packages (1.26.4)\n",
      "Note: you may need to restart the kernel to use updated packages.\n"
     ]
    }
   ],
   "source": [
    "pip install numpy"
   ]
  },
  {
   "cell_type": "code",
   "execution_count": 3,
   "id": "b9d68ff9-d71b-4afc-b2e2-464b5abaf5ce",
   "metadata": {},
   "outputs": [
    {
     "name": "stdout",
     "output_type": "stream",
     "text": [
      "Requirement already satisfied: pandas in c:\\users\\izzah alia\\anaconda3\\lib\\site-packages (2.2.2)\n",
      "Requirement already satisfied: numpy>=1.26.0 in c:\\users\\izzah alia\\anaconda3\\lib\\site-packages (from pandas) (1.26.4)\n",
      "Requirement already satisfied: python-dateutil>=2.8.2 in c:\\users\\izzah alia\\anaconda3\\lib\\site-packages (from pandas) (2.9.0.post0)\n",
      "Requirement already satisfied: pytz>=2020.1 in c:\\users\\izzah alia\\anaconda3\\lib\\site-packages (from pandas) (2024.1)\n",
      "Requirement already satisfied: tzdata>=2022.7 in c:\\users\\izzah alia\\anaconda3\\lib\\site-packages (from pandas) (2023.3)\n",
      "Requirement already satisfied: six>=1.5 in c:\\users\\izzah alia\\anaconda3\\lib\\site-packages (from python-dateutil>=2.8.2->pandas) (1.16.0)\n",
      "Note: you may need to restart the kernel to use updated packages.\n"
     ]
    }
   ],
   "source": [
    "pip install pandas"
   ]
  },
  {
   "cell_type": "code",
   "execution_count": null,
   "id": "19c92f11-c48a-4981-a587-19e26a1de094",
   "metadata": {},
   "outputs": [],
   "source": [
    "pip install matplot lib"
   ]
  },
  {
   "cell_type": "code",
   "execution_count": null,
   "id": "8564c247-caeb-4769-be54-9fbfbfb5a596",
   "metadata": {},
   "outputs": [],
   "source": [
    "import numpy as np\n",
    "import pandas as pd\n",
    "import matplotlib.pyplot as plt\n",
    "import os"
   ]
  },
  {
   "cell_type": "code",
   "execution_count": null,
   "id": "a750258f-ac71-4740-89ea-9204806e7b5c",
   "metadata": {},
   "outputs": [],
   "source": [
    "vet = pd.read_csv('data/registeredvet.csv')\n"
   ]
  },
  {
   "cell_type": "code",
   "execution_count": null,
   "id": "ef92a09e-1a02-4112-99c5-8eb111b5a468",
   "metadata": {},
   "outputs": [],
   "source": [
    "vet.head(2)\n"
   ]
  },
  {
   "cell_type": "code",
   "execution_count": null,
   "id": "fa4542d4-f318-4673-9aa6-a684658392ea",
   "metadata": {},
   "outputs": [],
   "source": [
    "vet.head(10)\n"
   ]
  },
  {
   "cell_type": "code",
   "execution_count": null,
   "id": "227d4cef-420f-4ca9-ae3b-f33bc3cf1cb5",
   "metadata": {},
   "outputs": [],
   "source": [
    "vet.head(5)"
   ]
  },
  {
   "cell_type": "code",
   "execution_count": null,
   "id": "1afaefcb-49e2-4fec-a410-9507bfcc0d24",
   "metadata": {},
   "outputs": [],
   "source": [
    "# Remove the comma from the 'Daerah' column\n",
    "vet['Daerah'] = vet['Daerah'].str.strip(',')\n"
   ]
  },
  {
   "cell_type": "code",
   "execution_count": null,
   "id": "0bed3cd4-5e8d-4397-b4cb-22a942cecc85",
   "metadata": {},
   "outputs": [],
   "source": [
    "vet.head(5)"
   ]
  },
  {
   "cell_type": "code",
   "execution_count": null,
   "id": "7865c955-31ef-43c4-bbbe-f67cd8f378dc",
   "metadata": {},
   "outputs": [],
   "source": [
    "vet['Daerah'] = vet['Daerah'].str[0].str.upper() + vet['Daerah'].str[1:].str.lower()\n"
   ]
  },
  {
   "cell_type": "code",
   "execution_count": null,
   "id": "da683474-276d-4f2b-9a59-0529f2938014",
   "metadata": {},
   "outputs": [],
   "source": [
    "vet.head(5)"
   ]
  },
  {
   "cell_type": "code",
   "execution_count": null,
   "id": "25fb44bc-09ba-4f7e-9348-8f665f702f4c",
   "metadata": {},
   "outputs": [],
   "source": [
    "vet.shape"
   ]
  },
  {
   "cell_type": "code",
   "execution_count": null,
   "id": "c507bc2e-72fa-480e-9c55-5a6bae951f79",
   "metadata": {},
   "outputs": [],
   "source": [
    "vet['Negeri'].value_counts()\n"
   ]
  },
  {
   "cell_type": "code",
   "execution_count": null,
   "id": "7e3218e4-9f4c-46ca-a6f2-0bfceada8d9c",
   "metadata": {},
   "outputs": [],
   "source": [
    "vet.isnull().sum()\n"
   ]
  },
  {
   "cell_type": "code",
   "execution_count": null,
   "id": "ad3c0313-d965-42b8-82db-986f3ccd722e",
   "metadata": {},
   "outputs": [],
   "source": [
    "vet.duplicated().sum()\n"
   ]
  },
  {
   "cell_type": "code",
   "execution_count": null,
   "id": "9121a182-6068-4117-8bfd-a533be856d66",
   "metadata": {},
   "outputs": [],
   "source": [
    "if 'USJ ANIMAL CLINIC (SUBANG JAYA)' in vet['Nama Klinik'].values:\n",
    "    # Get the row(s) where 'Nama Kilinik' is 'USJ ANIMAL CLINIC (SUBANG JAYA)'\n",
    "    rows = vet[vet['Nama Klinik'] == 'USJ ANIMAL CLINIC (SUBANG JAYA)']\n",
    "    \n",
    "    # Add the 'Daerah' value for those rows\n",
    "    vet.loc[rows.index, 'Daerah'] = 'Subang Jaya'"
   ]
  },
  {
   "cell_type": "code",
   "execution_count": null,
   "id": "315c0d27-cfb9-43c7-ad51-abab6b6f7113",
   "metadata": {},
   "outputs": [],
   "source": [
    "vet.isnull().sum()\n"
   ]
  },
  {
   "cell_type": "code",
   "execution_count": null,
   "id": "9f847490-2ceb-4b34-b96f-edb92be8e79e",
   "metadata": {},
   "outputs": [],
   "source": [
    "if 'IPOH EAST VETERINARY CLINIC' in vet['Nama Klinik'].values:\n",
    "    rows = vet[vet['Nama Klinik'] == 'IPOH EAST VETERINARY CLINIC']\n",
    "    vet.loc[rows.index, 'Sektor'] = 'Swasta'"
   ]
  },
  {
   "cell_type": "code",
   "execution_count": null,
   "id": "ff08f10b-11cd-487f-843e-03cc830774c8",
   "metadata": {},
   "outputs": [],
   "source": [
    "vet.isnull().sum()\n"
   ]
  },
  {
   "cell_type": "code",
   "execution_count": null,
   "id": "9b13616e-d785-4b62-9125-679b1af03f48",
   "metadata": {},
   "outputs": [],
   "source": [
    "vet = vet.drop(\"Alamat Premis 2\", axis=1)"
   ]
  },
  {
   "cell_type": "code",
   "execution_count": null,
   "id": "7d53d794-e6d8-493c-b151-b5e58521b827",
   "metadata": {},
   "outputs": [],
   "source": [
    "vet.isnull().sum()\n"
   ]
  },
  {
   "cell_type": "code",
   "execution_count": null,
   "id": "4c8b5e00-5245-4b86-8f2a-27ca4535a145",
   "metadata": {},
   "outputs": [],
   "source": [
    "if 'HOSPITAL VETERINAR UNIVERSITI (UPM)' in vet['Nama Klinik'].values:\n",
    "    rows = vet[vet['Nama Klinik'] == 'HOSPITAL VETERINAR UNIVERSITI (UPM)']\n",
    "    vet.loc[rows.index, 'Poskod'] = '43400'"
   ]
  },
  {
   "cell_type": "code",
   "execution_count": null,
   "id": "6f0e04e8-7ae7-4c75-8302-822c41c4c24b",
   "metadata": {},
   "outputs": [],
   "source": [
    "vet.isnull().sum()\n"
   ]
  },
  {
   "cell_type": "code",
   "execution_count": null,
   "id": "8938b364-867f-477d-b300-709f7500a6af",
   "metadata": {},
   "outputs": [],
   "source": [
    "vet = vet.drop(\"Fax\", axis=1)"
   ]
  },
  {
   "cell_type": "code",
   "execution_count": null,
   "id": "ca9cf236-04d2-48cf-9ccd-9405f629db92",
   "metadata": {},
   "outputs": [],
   "source": [
    "vet.isnull().sum()\n"
   ]
  },
  {
   "cell_type": "code",
   "execution_count": null,
   "id": "43701c54-259e-4075-8c48-2e760d0c0232",
   "metadata": {},
   "outputs": [],
   "source": [
    "if 'ARK VETERINARY CENTRE' in vet['Nama Klinik'].values:\n",
    "    rows = vet[vet['Nama Klinik'] == 'ARK VETERINARY CENTRE']\n",
    "    vet.loc[rows.index, 'No. Telefon'] = '03-7726 7405'"
   ]
  },
  {
   "cell_type": "code",
   "execution_count": null,
   "id": "51e1daaa-8aa3-4846-ba8a-5c4e3899e773",
   "metadata": {},
   "outputs": [],
   "source": [
    "vet.isnull().sum()\n"
   ]
  },
  {
   "cell_type": "code",
   "execution_count": null,
   "id": "524c301a-9332-44c8-8d83-f697c7276be1",
   "metadata": {},
   "outputs": [],
   "source": [
    "if 'KLINIK HAIWAN VET PARTNERS' in vet['Nama Klinik'].values:\n",
    "    rows = vet[vet['Nama Klinik'] == 'KLINIK HAIWAN VET PARTNERS']\n",
    "    vet.loc[rows.index, 'No. Telefon'] = '018-776 2218'"
   ]
  },
  {
   "cell_type": "code",
   "execution_count": null,
   "id": "e7fe1569-7814-46f7-b56f-eac97f3c1a38",
   "metadata": {},
   "outputs": [],
   "source": [
    "vet.isnull().sum()\n"
   ]
  },
  {
   "cell_type": "code",
   "execution_count": null,
   "id": "a2f393ac-969b-4377-a5e7-e4109f564c9d",
   "metadata": {},
   "outputs": [],
   "source": [
    "if 'HOSPITAL VETERINAR KUALA LUMPUR' in vet['Nama Klinik'].values:\n",
    "    rows = vet[vet['Nama Klinik'] == 'HOSPITAL VETERINAR KUALA LUMPUR']\n",
    "    vet.loc[rows.index, 'No. Telefon'] = '03-9200 2890'"
   ]
  },
  {
   "cell_type": "code",
   "execution_count": null,
   "id": "03ce7138-6d1d-43b9-878e-d143209bd320",
   "metadata": {},
   "outputs": [],
   "source": [
    "vet.head(100)"
   ]
  },
  {
   "cell_type": "code",
   "execution_count": null,
   "id": "5edaa1b4-b027-47ab-9e9e-efaf3a49bb01",
   "metadata": {},
   "outputs": [],
   "source": [
    "vet['Negeri'].value_counts()\n"
   ]
  },
  {
   "cell_type": "code",
   "execution_count": null,
   "id": "e1694339-d701-4f29-bc95-f240422ff4e7",
   "metadata": {},
   "outputs": [],
   "source": [
    "vet['Daerah'].value_counts()\n"
   ]
  },
  {
   "cell_type": "code",
   "execution_count": null,
   "id": "ba9cf20e-3daf-44a3-8c24-09bfe4b13934",
   "metadata": {},
   "outputs": [],
   "source": [
    "vet.head(100)"
   ]
  },
  {
   "cell_type": "code",
   "execution_count": null,
   "id": "2a4621b2-8147-46a9-8dbd-641763857783",
   "metadata": {},
   "outputs": [],
   "source": [
    "vet['Poskod'] = vet['Poskod'].astype(int)"
   ]
  },
  {
   "cell_type": "code",
   "execution_count": null,
   "id": "65236dc2-72fa-4eca-bd6b-215dd4f8626a",
   "metadata": {},
   "outputs": [],
   "source": [
    "vet.head(10)"
   ]
  },
  {
   "cell_type": "code",
   "execution_count": null,
   "id": "f8d02427-eb30-4080-adde-1596b85172d4",
   "metadata": {},
   "outputs": [],
   "source": [
    "vet = vet.drop(\"Email\", axis=1)"
   ]
  },
  {
   "cell_type": "code",
   "execution_count": null,
   "id": "a76a7aa7-d992-4456-bf3d-ada36083a1b5",
   "metadata": {},
   "outputs": [],
   "source": [
    "vet.head(10)"
   ]
  },
  {
   "cell_type": "code",
   "execution_count": null,
   "id": "9d79aeda-5dd4-4335-9ac4-b602d0ae7a3d",
   "metadata": {},
   "outputs": [],
   "source": [
    "vet = vet.rename(columns={\n",
    "'Alamat Premis 1': 'Alamat Premis'})"
   ]
  },
  {
   "cell_type": "code",
   "execution_count": null,
   "id": "697aba1f-406e-4bc2-91f5-721dc98d6ad0",
   "metadata": {},
   "outputs": [],
   "source": [
    "vet.head(10)"
   ]
  },
  {
   "cell_type": "code",
   "execution_count": null,
   "id": "b47450f3-1b20-42f8-b4ed-448016a87c92",
   "metadata": {},
   "outputs": [],
   "source": [
    "vet['Nama Klinik'] = vet['Nama Klinik'].str.title()\n",
    "vet.head(10)"
   ]
  },
  {
   "cell_type": "code",
   "execution_count": null,
   "id": "9c3f61ca-395f-42b8-9a87-63da8855c408",
   "metadata": {},
   "outputs": [],
   "source": [
    "vet['Alamat Premis'] = vet['Alamat Premis'].str.title()\n",
    "vet['Tujuan Kegunaan'] = vet['Tujuan Kegunaan'].str.title()"
   ]
  },
  {
   "cell_type": "code",
   "execution_count": null,
   "id": "25677bc4-d583-4224-8eed-b1de9063e5a0",
   "metadata": {},
   "outputs": [],
   "source": [
    "vet.head(10)"
   ]
  },
  {
   "cell_type": "code",
   "execution_count": null,
   "id": "e0b25d5d-05c2-4236-b129-8bfda22d161a",
   "metadata": {},
   "outputs": [],
   "source": [
    "vet['Alamat Premis'] = vet['Alamat Premis'].str.rstrip(',')\n",
    "vet.head(5)\n"
   ]
  },
  {
   "cell_type": "code",
   "execution_count": null,
   "id": "85fe8dc5-70d7-4286-8c8e-9761290020ff",
   "metadata": {},
   "outputs": [],
   "source": [
    "vet.to_csv('updatedRegisteredVet.csv', index=False)\n"
   ]
  },
  {
   "cell_type": "code",
   "execution_count": null,
   "id": "423695a5-97bc-41b9-97b3-b87341dc537b",
   "metadata": {},
   "outputs": [],
   "source": [
    "vet.head(10)\n"
   ]
  },
  {
   "cell_type": "code",
   "execution_count": null,
   "id": "7c21c6db-4c1a-4350-928c-c437276f85bd",
   "metadata": {},
   "outputs": [],
   "source": []
  }
 ],
 "metadata": {
  "kernelspec": {
   "display_name": "Python 3 (ipykernel)",
   "language": "python",
   "name": "python3"
  },
  "language_info": {
   "codemirror_mode": {
    "name": "ipython",
    "version": 3
   },
   "file_extension": ".py",
   "mimetype": "text/x-python",
   "name": "python",
   "nbconvert_exporter": "python",
   "pygments_lexer": "ipython3",
   "version": "3.12.4"
  }
 },
 "nbformat": 4,
 "nbformat_minor": 5
}
